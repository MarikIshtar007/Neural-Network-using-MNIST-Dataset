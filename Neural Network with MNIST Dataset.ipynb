{
 "cells": [
  {
   "cell_type": "code",
   "execution_count": 12,
   "metadata": {},
   "outputs": [],
   "source": [
    "import tensorflow as tf\n",
    "from keras.datasets import mnist\n",
    "from matplotlib import pyplot"
   ]
  },
  {
   "cell_type": "code",
   "execution_count": 13,
   "metadata": {},
   "outputs": [
    {
     "name": "stdout",
     "output_type": "stream",
     "text": [
      "Train: X=(60000, 28, 28), y=(60000,)\n",
      "Test: X=(10000, 28, 28), y=(10000,)\n"
     ]
    },
    {
     "data": {
      "image/png": "[encoded data removed]",
      "text/plain": [
       "<Figure size 432x288 with 9 Axes>"
      ]
     },
     "metadata": {
      "needs_background": "light"
     },
     "output_type": "display_data"
    }
   ],
   "source": [
    "(trainX, trainy), (testX, testy) = mnist.load_data()\n",
    "\n",
    "print('Train: X=%s, y=%s' % (trainX.shape, trainy.shape))\n",
    "print('Test: X=%s, y=%s' % (testX.shape, testy.shape))\n",
    "# plot first few images\n",
    "for i in range(9):\n",
    "    pyplot.subplot(330 + 1 + i)\n",
    "    pyplot.imshow(trainX[i], cmap=pyplot.get_cmap('gray'))\n",
    "pyplot.show()"
   ]
  },
  {
   "cell_type": "code",
   "execution_count": 8,
   "metadata": {},
   "outputs": [
    {
     "data": {
      "text/plain": [
       "(60000, 28, 28)"
      ]
     },
     "execution_count": 8,
     "metadata": {},
     "output_type": "execute_result"
    }
   ],
   "source": [
    "trainX.shape"
   ]
  },
  {
   "cell_type": "code",
   "execution_count": 6,
   "metadata": {},
   "outputs": [
    {
     "data": {
      "text/plain": [
       "(60000,)"
      ]
     },
     "execution_count": 6,
     "metadata": {},
     "output_type": "execute_result"
    }
   ],
   "source": [
    "trainy.shape"
   ]
  },
  {
   "cell_type": "code",
   "execution_count": 9,
   "metadata": {},
   "outputs": [
    {
     "data": {
      "text/plain": [
       "(10000, 28, 28)"
      ]
     },
     "execution_count": 9,
     "metadata": {},
     "output_type": "execute_result"
    }
   ],
   "source": [
    "testX.shape"
   ]
  },
  {
   "cell_type": "code",
   "execution_count": 10,
   "metadata": {},
   "outputs": [
    {
     "data": {
      "text/plain": [
       "(60000,)"
      ]
     },
     "execution_count": 10,
     "metadata": {},
     "output_type": "execute_result"
    }
   ],
   "source": [
    "trainy.shape"
   ]
  },
  {
   "cell_type": "code",
   "execution_count": 54,
   "metadata": {},
   "outputs": [
    {
     "data": {
      "text/plain": [
       "<matplotlib.image.AxesImage at 0x1a82908f9e8>"
      ]
     },
     "execution_count": 54,
     "metadata": {},
     "output_type": "execute_result"
    },
    {
     "data": {
      "image/png": "[encoded data removed]",
      "text/plain": [
       "<Figure size 432x288 with 1 Axes>"
      ]
     },
     "metadata": {
      "needs_background": "light"
     },
     "output_type": "display_data"
    }
   ],
   "source": [
    "# to check out a single image..\n",
    "import matplotlib.pyplot as plt\n",
    "%matplotlib inline\n",
    "plt.imshow(trainX[2].reshape(28,28), cmap = 'gist_gray')"
   ]
  },
  {
   "cell_type": "code",
   "execution_count": 19,
   "metadata": {},
   "outputs": [],
   "source": [
    "# setting up the neural model\n",
    "# dropout randomly assings zero/deactivates certain hidden neurons to prevent over-fitting.\n",
    "model = tf.keras.models.Sequential([\n",
    "  tf.keras.layers.Flatten(input_shape=(28, 28)),\n",
    "  tf.keras.layers.Dense(128, activation='relu'),\n",
    "  tf.keras.layers.Dropout(0.2),\n",
    "  tf.keras.layers.Dense(10)\n",
    "])\n"
   ]
  },
  {
   "cell_type": "code",
   "execution_count": 27,
   "metadata": {},
   "outputs": [
    {
     "data": {
      "text/plain": [
       "array([[-17.330036,  30.316816,  28.03478 , 118.0073  , -47.756973,\n",
       "        139.75893 , -16.40235 , -37.45827 ,  40.740044,  81.0343  ]],\n",
       "      dtype=float32)"
      ]
     },
     "execution_count": 27,
     "metadata": {},
     "output_type": "execute_result"
    }
   ],
   "source": [
    "predictions = model(trainX[:1]).numpy()\n",
    "predictions"
   ]
  },
  {
   "cell_type": "code",
   "execution_count": 28,
   "metadata": {},
   "outputs": [
    {
     "data": {
      "text/plain": [
       "array([[0.0000000e+00, 0.0000000e+00, 0.0000000e+00, 3.5759321e-10,\n",
       "        0.0000000e+00, 1.0000000e+00, 0.0000000e+00, 0.0000000e+00,\n",
       "        9.9492191e-44, 3.1348704e-26]], dtype=float32)"
      ]
     },
     "execution_count": 28,
     "metadata": {},
     "output_type": "execute_result"
    }
   ],
   "source": [
    "# softmax converts the above 'logits' to probabilites for the classes\n",
    "tf.nn.softmax(predictions).numpy()"
   ]
  },
  {
   "cell_type": "code",
   "execution_count": 29,
   "metadata": {},
   "outputs": [
    {
     "data": {
      "text/plain": [
       "0.0"
      ]
     },
     "execution_count": 29,
     "metadata": {},
     "output_type": "execute_result"
    }
   ],
   "source": [
    "# The losses.SparseCategoricalCrossentropy loss takes a vector of logits and a True index\n",
    "# and returns a scalar loss for each example.\n",
    "# This untrained model gives probabilities close to random (1/10 for each class), \n",
    "# so the initial loss should be close to -tf.log(1/10) ~= 2.3.\n",
    "loss_fn = tf.keras.losses.SparseCategoricalCrossentropy(from_logits=True)\n",
    "loss_fn(trainy[:1], predictions).numpy()"
   ]
  },
  {
   "cell_type": "code",
   "execution_count": 39,
   "metadata": {},
   "outputs": [
    {
     "name": "stdout",
     "output_type": "stream",
     "text": [
      "Train on 54000 samples, validate on 6000 samples\n",
      "Epoch 1/10\n",
      "54000/54000 [==============================] - 6s 113us/sample - loss: 0.3158 - accuracy: 0.9306 - val_loss: 0.2129 - val_accuracy: 0.9607\n",
      "Epoch 2/10\n",
      "54000/54000 [==============================] - 6s 104us/sample - loss: 0.2954 - accuracy: 0.9305 - val_loss: 0.2451 - val_accuracy: 0.9573\n",
      "Epoch 3/10\n",
      "54000/54000 [==============================] - 6s 112us/sample - loss: 0.2800 - accuracy: 0.9329 - val_loss: 0.2347 - val_accuracy: 0.9613\n",
      "Epoch 4/10\n",
      "54000/54000 [==============================] - 6s 103us/sample - loss: 0.3000 - accuracy: 0.9306 - val_loss: 0.2055 - val_accuracy: 0.9635\n",
      "Epoch 5/10\n",
      "54000/54000 [==============================] - 6s 102us/sample - loss: 0.2792 - accuracy: 0.9339 - val_loss: 0.1952 - val_accuracy: 0.9580\n",
      "Epoch 6/10\n",
      "54000/54000 [==============================] - 6s 104us/sample - loss: 0.2865 - accuracy: 0.9331 - val_loss: 0.2135 - val_accuracy: 0.9598\n",
      "Epoch 7/10\n",
      "54000/54000 [==============================] - 6s 103us/sample - loss: 0.2837 - accuracy: 0.9324 - val_loss: 0.1960 - val_accuracy: 0.9575\n",
      "Epoch 8/10\n",
      "54000/54000 [==============================] - 6s 106us/sample - loss: 0.2747 - accuracy: 0.9360 - val_loss: 0.2218 - val_accuracy: 0.9630\n",
      "Epoch 9/10\n",
      "54000/54000 [==============================] - 6s 111us/sample - loss: 0.2723 - accuracy: 0.9344 - val_loss: 0.2244 - val_accuracy: 0.9568\n",
      "Epoch 10/10\n",
      "54000/54000 [==============================] - 6s 106us/sample - loss: 0.2900 - accuracy: 0.9351 - val_loss: 0.2206 - val_accuracy: 0.9588\n"
     ]
    }
   ],
   "source": [
    "# fitting the data and training the model\n",
    "model.compile(optimizer='adam',\n",
    "              loss=loss_fn,\n",
    "              metrics=['accuracy'])\n",
    "final_model = model.fit(trainX, trainy, epochs=10, validation_split=0.1)"
   ]
  },
  {
   "cell_type": "code",
   "execution_count": 40,
   "metadata": {},
   "outputs": [
    {
     "name": "stdout",
     "output_type": "stream",
     "text": [
      "10000/10000 - 0s - loss: 0.5052 - accuracy: 0.9504\n"
     ]
    },
    {
     "data": {
      "text/plain": [
       "[0.5052356852610596, 0.9504]"
      ]
     },
     "execution_count": 40,
     "metadata": {},
     "output_type": "execute_result"
    }
   ],
   "source": [
    "model.evaluate(testX, testy, verbose=2)"
   ]
  },
  {
   "cell_type": "code",
   "execution_count": 41,
   "metadata": {},
   "outputs": [
    {
     "data": {
      "text/plain": [
       "'\\nTo directly get probabilites at the end of the model prediction, we can attach softmax to the model as a layer...\\n\\nprobability_model = tf.keras.Sequential([\\n  model,\\n  tf.keras.layers.Softmax()\\n])\\nprobability_model(x_test[:5])\\n\\n'"
      ]
     },
     "execution_count": 41,
     "metadata": {},
     "output_type": "execute_result"
    }
   ],
   "source": [
    "'''\n",
    "To directly get probabilites at the end of the model prediction, we can attach softmax to the model as a layer...\n",
    "\n",
    "probability_model = tf.keras.Sequential([\n",
    "  model,\n",
    "  tf.keras.layers.Softmax()\n",
    "])\n",
    "probability_model(x_test[:5])\n",
    "\n",
    "'''"
   ]
  },
  {
   "cell_type": "code",
   "execution_count": 100,
   "metadata": {},
   "outputs": [
    {
     "data": {
      "image/png": "[encoded data removed]",
      "text/plain": [
       "<Figure size 432x288 with 1 Axes>"
      ]
     },
     "metadata": {},
     "output_type": "display_data"
    }
   ],
   "source": [
    "# Now to to get a better idea of how our model scored while learning...\n",
    "loss = final_model.history['loss']\n",
    "val_loss = final_model.history['val_loss']\n",
    "epochs = range(1, len(loss) + 1)\n",
    "plt.plot(epochs, loss, 'y', label='Training loss')\n",
    "plt.plot(epochs, val_loss, 'r', label='Validation loss')\n",
    "plt.title('Training and validation loss')\n",
    "plt.xlabel('Epochs')\n",
    "plt.ylabel('Loss')\n",
    "plt.legend()\n",
    "plt.show()"
   ]
  },
  {
   "cell_type": "code",
   "execution_count": 45,
   "metadata": {},
   "outputs": [],
   "source": [
    "# That model of ours was trained using drop-out in the neural network.\n",
    "# let's see how does a model without drop-out fare against it."
   ]
  },
  {
   "cell_type": "code",
   "execution_count": 46,
   "metadata": {},
   "outputs": [],
   "source": [
    "model2 = tf.keras.models.Sequential([\n",
    "  tf.keras.layers.Flatten(input_shape=(28, 28)),\n",
    "  tf.keras.layers.Dense(128, activation='relu'),\n",
    "  tf.keras.layers.Dense(10)\n",
    "])\n"
   ]
  },
  {
   "cell_type": "code",
   "execution_count": 47,
   "metadata": {},
   "outputs": [
    {
     "name": "stdout",
     "output_type": "stream",
     "text": [
      "Train on 54000 samples, validate on 6000 samples\n",
      "Epoch 1/10\n",
      "54000/54000 [==============================] - 6s 117us/sample - loss: 2.3607 - accuracy: 0.8423 - val_loss: 0.3994 - val_accuracy: 0.9083\n",
      "Epoch 2/10\n",
      "54000/54000 [==============================] - 5s 101us/sample - loss: 0.3878 - accuracy: 0.9053 - val_loss: 0.3006 - val_accuracy: 0.9323\n",
      "Epoch 3/10\n",
      "54000/54000 [==============================] - 5s 100us/sample - loss: 0.2886 - accuracy: 0.9258 - val_loss: 0.2427 - val_accuracy: 0.9408\n",
      "Epoch 4/10\n",
      "54000/54000 [==============================] - 5s 97us/sample - loss: 0.2580 - accuracy: 0.9327 - val_loss: 0.2423 - val_accuracy: 0.9447\n",
      "Epoch 5/10\n",
      "54000/54000 [==============================] - 5s 101us/sample - loss: 0.2392 - accuracy: 0.9396 - val_loss: 0.2201 - val_accuracy: 0.9468\n",
      "Epoch 6/10\n",
      "54000/54000 [==============================] - 5s 102us/sample - loss: 0.2205 - accuracy: 0.9436 - val_loss: 0.2135 - val_accuracy: 0.9552\n",
      "Epoch 7/10\n",
      "54000/54000 [==============================] - 5s 99us/sample - loss: 0.2035 - accuracy: 0.9486 - val_loss: 0.2102 - val_accuracy: 0.9515\n",
      "Epoch 8/10\n",
      "54000/54000 [==============================] - 6s 102us/sample - loss: 0.1990 - accuracy: 0.9517 - val_loss: 0.2538 - val_accuracy: 0.9538\n",
      "Epoch 9/10\n",
      "54000/54000 [==============================] - 5s 102us/sample - loss: 0.1910 - accuracy: 0.9536 - val_loss: 0.2111 - val_accuracy: 0.9510\n",
      "Epoch 10/10\n",
      "54000/54000 [==============================] - 5s 100us/sample - loss: 0.1791 - accuracy: 0.9558 - val_loss: 0.2317 - val_accuracy: 0.9535\n"
     ]
    }
   ],
   "source": [
    "model2.compile(optimizer='adam',\n",
    "              loss=loss_fn,\n",
    "              metrics=['accuracy'])\n",
    "fin_model2 = model2.fit(trainX, trainy, epochs=10, validation_split=0.1)"
   ]
  },
  {
   "cell_type": "code",
   "execution_count": 48,
   "metadata": {},
   "outputs": [
    {
     "data": {
      "image/png": "[encoded data removed]",
      "text/plain": [
       "<Figure size 432x288 with 1 Axes>"
      ]
     },
     "metadata": {
      "needs_background": "light"
     },
     "output_type": "display_data"
    }
   ],
   "source": [
    "# Now to look how the second model did...\n",
    "loss = fin_model2.history['loss']\n",
    "val_loss = fin_model2.history['val_loss']\n",
    "epochs = range(1, len(loss) + 1)\n",
    "plt.plot(epochs, loss, 'y', label='Training loss')\n",
    "plt.plot(epochs, val_loss, 'r', label='Validation loss')\n",
    "plt.title('Training and validation loss')\n",
    "plt.xlabel('Epochs')\n",
    "plt.ylabel('Loss')\n",
    "plt.legend()\n",
    "with_dropout = plt.show()"
   ]
  },
  {
   "cell_type": "code",
   "execution_count": 99,
   "metadata": {},
   "outputs": [
    {
     "name": "stdout",
     "output_type": "stream",
     "text": [
      "                      Comparing the differences in loss due to drop-out layer                       \n"
     ]
    },
    {
     "data": {
      "text/plain": [
       "<Figure size 432x288 with 0 Axes>"
      ]
     },
     "metadata": {},
     "output_type": "display_data"
    },
    {
     "data": {
      "image/png": "[encoded data removed]",
      "text/plain": [
       "<Figure size 432x288 with 2 Axes>"
      ]
     },
     "metadata": {},
     "output_type": "display_data"
    }
   ],
   "source": [
    "# As it's visible, that the loss plateaus after 3 epochs or so.. whereas in the model with drop-out we had better results.\n",
    "# For ease, lets compare them side by side.\n",
    "\n",
    "plt.tight_layout();\n",
    "fig, (ax1, ax2) = plt.subplots(1, 2);\n",
    "plt.subplots_adjust(left=0, bottom=None, right=1.8, top=None, wspace=None, hspace=None);\n",
    "loss = final_model.history['loss']\n",
    "val_loss = final_model.history['val_loss']\n",
    "epochs = range(1, len(loss) + 1)\n",
    "ax1.plot(epochs, loss, 'y', label='Training loss');\n",
    "ax1.plot(epochs, val_loss, 'r', label='Validation loss');\n",
    "ax1.set_xlabel('Epochs');\n",
    "ax1.set_ylabel('Loss');\n",
    "ax1.legend();\n",
    "\n",
    "loss = fin_model2.history['loss']\n",
    "val_loss = fin_model2.history['val_loss']\n",
    "epochs = range(1, len(loss) + 1)\n",
    "ax2.plot(epochs, loss, 'y', label='Training loss');\n",
    "ax2.plot(epochs, val_loss, 'r', label='Validation loss');\n",
    "ax2.set_xlabel('Epochs\\nWithout Dropout');\n",
    "ax2.set_ylabel('Loss');\n",
    "ax2.legend();\n",
    "print(\"Comparing the differences in loss due to drop-out layer\".center(100))"
   ]
  },
  {
   "cell_type": "code",
   "execution_count": null,
   "metadata": {},
   "outputs": [],
   "source": []
  }
 ],
 "metadata": {
  "kernelspec": {
   "display_name": "tensorflow",
   "language": "python",
   "name": "tensorflow"
  },
  "language_info": {
   "codemirror_mode": {
    "name": "ipython",
    "version": 3
   },
   "file_extension": ".py",
   "mimetype": "text/x-python",
   "name": "python",
   "nbconvert_exporter": "python",
   "pygments_lexer": "ipython3",
   "version": "3.6.10"
  }
 },
 "nbformat": 4,
 "nbformat_minor": 4
}
